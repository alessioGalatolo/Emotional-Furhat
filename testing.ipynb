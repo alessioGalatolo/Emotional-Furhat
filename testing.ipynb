{
 "cells": [
  {
   "cell_type": "markdown",
   "metadata": {},
   "source": [
    "## Start Furhat"
   ]
  },
  {
   "cell_type": "code",
   "execution_count": 2,
   "metadata": {},
   "outputs": [],
   "source": [
    "from furhat_remote_api import FurhatRemoteAPI\n",
    "\n",
    "FURHAT_ADDRESS = \"localhost\"\n",
    "furhat = FurhatRemoteAPI(FURHAT_ADDRESS)"
   ]
  },
  {
   "cell_type": "markdown",
   "metadata": {},
   "source": [
    "## Show twitching anger"
   ]
  },
  {
   "cell_type": "code",
   "execution_count": 64,
   "metadata": {},
   "outputs": [
    {
     "data": {
      "text/plain": [
       "{'message': 'Performing gesture', 'success': True}"
      ]
     },
     "execution_count": 64,
     "metadata": {},
     "output_type": "execute_result"
    }
   ],
   "source": [
    "my_anger = {\n",
    "  \"frames\": [\n",
    "    {\n",
    "      \"time\": [\n",
    "        i*0.1 for i in range(20) \n",
    "        ],\n",
    "      \"params\": {\n",
    "        \"EXPR_ANGER\": 1,\n",
    "        \"BROW_INNER_DOWN\": 1,\n",
    "      }\n",
    "    },{\n",
    "      \"time\": [\n",
    "        i*0.1 + 0.05 for i in range(20)\n",
    "      ],\n",
    "      \"params\": {\n",
    "        \"EXPR_ANGER\": 0.9,\n",
    "        \"BROW_INNER_DOWN\": 0.9\n",
    "      }\n",
    "    },\n",
    "    {\n",
    "        \"time\": [\n",
    "            7.0\n",
    "        ],\n",
    "        \"params\": { \n",
    "            \"reset\": True\n",
    "        }\n",
    "    }\n",
    "  ],\n",
    "  \"name\": \"My anger\",\n",
    "  \"class\": \"furhatos.gestures.Gesture\"\n",
    "}\n",
    "furhat.gesture(body=my_anger)"
   ]
  },
  {
   "cell_type": "markdown",
   "metadata": {},
   "source": [
    "Show happiness"
   ]
  },
  {
   "cell_type": "code",
   "execution_count": 86,
   "metadata": {},
   "outputs": [
    {
     "data": {
      "text/plain": [
       "{'message': 'Performing gesture', 'success': True}"
      ]
     },
     "execution_count": 86,
     "metadata": {},
     "output_type": "execute_result"
    }
   ],
   "source": [
    "my_happiness = {\n",
    "  \"frames\": [\n",
    "    {\n",
    "      \"time\": [\n",
    "            0.1\n",
    "        ],\n",
    "      \"params\": {\n",
    "        \"SMILE_OPEN\": 1,\n",
    "        \"JAW_OPEN\": 0.2,\n",
    "        \"CHEEK_PUFF\": 1\n",
    "      }\n",
    "    },\n",
    "    {\n",
    "        \"time\": [\n",
    "            7.0\n",
    "        ],\n",
    "        \"params\": { \n",
    "            \"reset\": True\n",
    "        }\n",
    "    }\n",
    "  ],\n",
    "  \"name\": \"My happiness\",\n",
    "  \"class\": \"furhatos.gestures.Gesture\"\n",
    "}\n",
    "furhat.gesture(body=my_happiness)"
   ]
  }
 ],
 "metadata": {
  "interpreter": {
   "hash": "3aef83b1d902a7fa4d5f403db5ef3d068c45aec4b489feba00af64152ebbf6a4"
  },
  "kernelspec": {
   "display_name": "Python 3.7.0 ('wenv': venv)",
   "language": "python",
   "name": "python3"
  },
  "language_info": {
   "codemirror_mode": {
    "name": "ipython",
    "version": 3
   },
   "file_extension": ".py",
   "mimetype": "text/x-python",
   "name": "python",
   "nbconvert_exporter": "python",
   "pygments_lexer": "ipython3",
   "version": "3.7.0"
  },
  "orig_nbformat": 4
 },
 "nbformat": 4,
 "nbformat_minor": 2
}
